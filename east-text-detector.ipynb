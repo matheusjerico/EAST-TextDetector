{
 "cells": [
  {
   "cell_type": "markdown",
   "metadata": {},
   "source": [
    "## OpenCV Text Detection using EAST Text Detector"
   ]
  },
  {
   "cell_type": "markdown",
   "metadata": {},
   "source": [
    "- ESAT Text Dtector é um modelo de rede neural profunda, estado da arte sobre detecção de texto"
   ]
  },
  {
   "cell_type": "markdown",
   "metadata": {},
   "source": [
    "#### To run:\n",
    "- python east-text-detector.py \n",
    "\n",
    "#### Requirements:\n",
    "- OpenCV 4\n",
    "- Imutils 0.5.3"
   ]
  },
  {
   "cell_type": "markdown",
   "metadata": {},
   "source": [
    "### 1. Importando pacotes"
   ]
  },
  {
   "cell_type": "code",
   "execution_count": 1,
   "metadata": {},
   "outputs": [],
   "source": [
    "from imutils.object_detection import non_max_suppression\n",
    "import numpy as np\n",
    "import argparse\n",
    "import time\n",
    "import cv2"
   ]
  },
  {
   "cell_type": "markdown",
   "metadata": {},
   "source": [
    "### 2. Construindo argumentos de entrada"
   ]
  },
  {
   "cell_type": "markdown",
   "metadata": {},
   "source": [
    "- **Importante**: EAST text tem como requisito que a dimensão da imagem de entrada seja múltiplo de 32"
   ]
  },
  {
   "cell_type": "code",
   "execution_count": 22,
   "metadata": {},
   "outputs": [],
   "source": [
    "# criando objeto do tipo parser\n",
    "argument_parser = argparse.ArgumentParser()\n",
    "argument_parser.add_argument(\"-i\", \"--image\", type=str, \n",
    "                             default = \"imagens/hocuspocus.jpeg\" , help=\"path to input image\")\n",
    "argument_parser.add_argument(\"-e\", \"--east\", \n",
    "                             default = \"frozen_east_text_detection.pb\", type=str, help=\"path to EAST Text Detector\")\n",
    "argument_parser.add_argument(\"-mc\", \"--min_confidence\", type=float,\n",
    "                             default = 0.5, help=\"minimum probability required to inspect a region\")\n",
    "argument_parser.add_argument(\"-w\", \"--width\", type=int,\n",
    "                             default = 320, help=\"image width (multiple of 32\")\n",
    "argument_parser.add_argument(\"-he\", \"--heigth\", type=int,\n",
    "                             default = 320, help=\"image heigth (multiple of 32)\")\n",
    "argument_parser.add_argument(\"-f\", \"--fff\", help=\"a dummy argument to fool ipython\", default=\"1\")\n",
    "arguments = vars(argument_parser.parse_args())"
   ]
  },
  {
   "cell_type": "markdown",
   "metadata": {},
   "source": [
    "### 3. Load image, resize and work with image dimensions"
   ]
  },
  {
   "cell_type": "code",
   "execution_count": 4,
   "metadata": {},
   "outputs": [],
   "source": [
    "# carregando imagem\n",
    "image = cv2.imread(arguments[\"image\"])\n",
    "# criando cópia\n",
    "orig = image.copy()\n",
    "# get nas dimensões da imagem\n",
    "(H, W) = image.shape[:2]\n",
    "\n",
    "# set das novas dimensões da imagem e determinando a razão das mudanças de dimensão\n",
    "(newW, newH) = (arguments['width'], arguments['heigth'])\n",
    "rW, rH = (W / float(newW)), (H / float(newH))\n",
    "\n",
    "# redimensionando a imagem com as novas dimensões\n",
    "image = cv2.resize(image, (newW, newH))\n",
    "(H, W) = image.shape[:2]"
   ]
  },
  {
   "cell_type": "markdown",
   "metadata": {},
   "source": [
    "### 4. Definindo as duas camadas de saída do EAST"
   ]
  },
  {
   "cell_type": "code",
   "execution_count": 15,
   "metadata": {},
   "outputs": [],
   "source": [
    "# 1° saída das probabilidades\n",
    "# 2º coordenadas do caixa delimitadora do texto\n",
    "layerNames = [\n",
    "    \"feature_fusion/Conv_7/Sigmoid\",\n",
    "    \"feature_fusion/concat_3\"]"
   ]
  },
  {
   "cell_type": "markdown",
   "metadata": {},
   "source": [
    "### 5. BlobFromImage\n",
    "- A subtração média é usada para ajudar a combater as alterações de iluminação nas imagens de entrada em nosso conjunto de dados. Portanto, podemos ver a subtração média como uma técnica usada para ajudar nossas redes neurais convolucionais.\n",
    "\n"
   ]
  },
  {
   "cell_type": "code",
   "execution_count": 16,
   "metadata": {},
   "outputs": [
    {
     "name": "stdout",
     "output_type": "stream",
     "text": [
      "carregando o modelo EAST Text Detector...\n",
      "Text detection took 1.3354616165161133 seconds.\n"
     ]
    }
   ],
   "source": [
    "# carregando o modelo EAST Text Detector\n",
    "print(\"carregando o modelo EAST Text Detector...\")\n",
    "net = cv2.dnn.readNet(arguments[\"east\"])\n",
    "\n",
    "# aplicando subtração média com blobfromimage e obtendo as duas camadas de saída\n",
    "blob = cv2.dnn.blobFromImage(image = image, \n",
    "                             size = (W, H),\n",
    "                             mean = (123.68, 116.78, 103.94),\n",
    "                             swapRB = True,\n",
    "                             crop = False)\n",
    "# armazenando o tempo inicial\n",
    "start = time.time()\n",
    "# aplicando blob \n",
    "net.setInput(blob)\n",
    "# net.forward retorna duas features: \n",
    "# 1. A probabilidade de uma determinada região conter texto\n",
    "# 2. A geometria sobre a caixa delimitador com o texto\n",
    "(scores, geometry) = net.forward(layerNames)\n",
    "# armazenando o tempo final\n",
    "end = time.time()\n",
    "\n",
    "# Calculando o tempo para detecção do texto\n",
    "print(\"Text detection took {} seconds.\".format(end-start))"
   ]
  },
  {
   "cell_type": "markdown",
   "metadata": {},
   "source": [
    "### 6. Loop sobre cada um desses valores sobre probabilidade e geometria\n",
    "\n",
    "- rects: armazena as coordenadas da caixa delimitadora (x, y) para regiões de texto;\n",
    "- confidências: armazena a probabilidade associada a cada uma das caixas delimitadoras em rects."
   ]
  },
  {
   "cell_type": "code",
   "execution_count": 24,
   "metadata": {},
   "outputs": [],
   "source": [
    "# Aquisição do número de linhas e colunas do volume de pontuações\n",
    "(numRows, numCols) = scores.shape[2:4]\n",
    "rects = []\n",
    "confidences = []\n",
    "\n",
    "# loop sobre o número de linhas\n",
    "for y in range (0, numRows):\n",
    "    # extraindo as pontuações (probabilidades), seguidas pela geométria dos\n",
    "    # dados usados para derivar possíveis coordenadas da caixa delimitadora que envolvem o texto\n",
    "    scoresData = scores[0, 0, y]\n",
    "    xData0 = geometry[0, 0, y]\n",
    "    xData1 = geometry[0, 1, y]\n",
    "    xData2 = geometry[0, 2, y]\n",
    "    xData3 = geometry[0, 3, y]\n",
    "    anglesData = geometry[0, 4, y]\n",
    "    \n",
    "    # loop sobre o número de colunas\n",
    "    for x in range (0, numCols):\n",
    "        # se a probabilidade do score for inferior que o mínimo de confiança, ignoramos\n",
    "        if scoresData[x] < arguments[\"min_confidence\"]:\n",
    "            continue\n",
    "        \n",
    "        # OBS: EAST Text Detect naturalemente reduz o tamanho da imagem que passará pela RN.\n",
    "        # calculando o fator de deslocamento, pois nossos mapas de recursos resultantes\n",
    "        # são 4x menores que a imagem de entrada\n",
    "        (offsetX, offsetY) = (x * 4.0, y * 4.0)\n",
    "        \n",
    "        # extraindo o ângulo de rotação para a previsão e depois calcular o seno e o cosseno\n",
    "        angle = anglesData[x]\n",
    "        cos = np.cos(angle)\n",
    "        sin = np.sin(angle)\n",
    "        \n",
    "        # usando o volume da geometria para derivar a largura e a altura da caixa delimitadora\n",
    "        h = xData0[x] + xData2[x]\n",
    "        w = xData1[x] + xData3[x]\n",
    "        \n",
    "        # calculando as coordenadas x e y para caixa delimitadora da detecção do texto\n",
    "        endX = int(offsetX + (cos * xData1[x]) + (sin * xData2[x]))\n",
    "        endY = int(offsetY - (sin * xData1[x]) + (cos * xData2[x]))\n",
    "        startX = int(endX - w)\n",
    "        startY = int(endY - h)\n",
    "        \n",
    "        # adicionando a caixa delimitador e a probabilidade as listas rects e confidences\n",
    "        rects.append((startX, startY, endX, endY))\n",
    "        confidences.append(scoresData[x])"
   ]
  },
  {
   "cell_type": "markdown",
   "metadata": {},
   "source": [
    "- A etapa final é aplicar a supressão não máxima às nossas caixas delimitadoras para suprimir caixas delimitadoras fracas e sobrepostas e exibir as previsões de texto resultantes:"
   ]
  },
  {
   "cell_type": "code",
   "execution_count": 25,
   "metadata": {},
   "outputs": [],
   "source": [
    "boxes = non_max_suppression(np.array(rects), probs=confidences)\n",
    " \n",
    "# loop sobre cada caixa delimitadora\n",
    "for (startX, startY, endX, endY) in boxes:\n",
    "    # corrigindo a caixa delimitadora com a razão das mudanças de dimensão que realizamos anteriormente.\n",
    "    startX = int(startX * rW)\n",
    "    startY = int(startY * rH)\n",
    "    endX = int(endX * rW)\n",
    "    endY = int(endY * rH)\n",
    "\n",
    "    # desenhando a caixa delimitador na imagem\n",
    "    cv2.rectangle(orig, (startX, startY), (endX, endY), (0, 255, 0), 2)\n",
    "    "
   ]
  },
  {
   "cell_type": "code",
   "execution_count": 26,
   "metadata": {},
   "outputs": [
    {
     "data": {
      "text/plain": [
       "48"
      ]
     },
     "execution_count": 26,
     "metadata": {},
     "output_type": "execute_result"
    }
   ],
   "source": [
    "cv2.imshow(\"Text Detection\", orig)\n",
    "cv2.waitKey(0)"
   ]
  }
 ],
 "metadata": {
  "kernelspec": {
   "display_name": "Python 3",
   "language": "python",
   "name": "python3"
  },
  "language_info": {
   "codemirror_mode": {
    "name": "ipython",
    "version": 3
   },
   "file_extension": ".py",
   "mimetype": "text/x-python",
   "name": "python",
   "nbconvert_exporter": "python",
   "pygments_lexer": "ipython3",
   "version": "3.7.4"
  }
 },
 "nbformat": 4,
 "nbformat_minor": 2
}
